{
  "nbformat": 4,
  "nbformat_minor": 0,
  "metadata": {
    "colab": {
      "provenance": []
    },
    "kernelspec": {
      "name": "python3",
      "display_name": "Python 3"
    },
    "language_info": {
      "name": "python"
    }
  },
  "cells": [
    {
      "cell_type": "markdown",
      "source": [
        "#**Python Basics**\n"
      ],
      "metadata": {
        "id": "Y-G8TfPY1cvN"
      }
    },
    {
      "cell_type": "markdown",
      "source": [
        "1.What is Python and why it is importan?\n",
        " >-Python is a high-level, interpreted programming language known for its     simplicity and readability. It is important because Python has clean syntax makes code easy to write and understand. It is versatile, used in web development, data science, AI, automation, and more. It has a huge standard library and third-party packages that speed up development\n",
        "  \n",
        "\n",
        "2.What is an interpreter in Python?\n",
        "  >-An interpreter in the program that reads and executes Python code line by line  and immediately shows results, making debugging easier. It converts Python source code into bytecode and runs it on the Python Virtual Machine.\n",
        "\n",
        "3.What are pre-defined keywords in Python?\n",
        "  >-Pre-defined keywords in Python are reserved words that have a fixed meaning in the language and cannot be used as variable names, function names, or identifiers.\n",
        "\n",
        "4.Can keywords be used as variable names?\n",
        "  >-keywords cannot be used as variable names in Python because they are reserved words with predefined meanings.\n",
        "\n",
        "5.What is mutability in Python?\n",
        "  >-Mutability refers to whether an object's value can be changed after it's created. In Python, objects are either mutable or immutable.\n",
        "\n",
        "6.Why are lists mutable, but tuples are immutable?\n",
        "  >-Lists are mutable because Lists are for dynamic data and tuples are immutable because tuples store fixed collections of data where values should not change.\n",
        "\n",
        "7.What is the difference between “==” and “is” operators in Python?\n",
        "  >-== compares the values of two objects to check if they are equal, while is checks if two variables refer to the same object in memory.\n",
        "\n",
        "8.What are logical operators in Python?\n",
        "  >-Logical operators are used to combine conditional statements:\n",
        "\n",
        "    and → True if both conditions are True.\n",
        "\n",
        "    or → True if at least one condition is True.\n",
        "\n",
        "    not → Reverses the Boolean value.\n",
        "\n",
        "9.What is type casting in Python?\n",
        "  >-Type casting is converting one data type into another, for example, int(\"5\"), float(3), str(100). It helps in performing operations between different data types.\n",
        "\n",
        "10.What is the difference between implicit and explicit type casting?\n",
        "  >-Implicit casting: Done automatically by Python, usually when combining different numeric types (e.g., 3 + 4.5 → 7.5).\n",
        "  -Explicit casting: Done manually using functions like int(), float(), str().\n",
        "\n",
        "\n",
        "11.What is the purpose of conditional statements in Python?\n",
        "  >-Conditional statements are used for decision-making, allowing specific blocks of code to run only if certain conditions are True.\n",
        "\n",
        "12.How does the elif statement work?\n",
        "  >-elif (else if) checks another condition if the previous ones are False. Only the first True condition's block is executed, and the rest are skipped.\n",
        "\n",
        "13.What is the difference between for and while loops?\n",
        "  >-for loop: Iterates over a sequence (list, string, range) with a known number of iterations.\n",
        "  -while loop: Repeats until a given condition becomes False, useful when iterations are unknown.\n",
        "\n",
        "14.Describe a scenario where a while loop is more suitable than a for loop.\n",
        "  >-A while loop is better when the number of iterations is unknown, such as reading user input until they type \"exit\"."
      ],
      "metadata": {
        "id": "c077FvYy23zQ"
      }
    },
    {
      "cell_type": "markdown",
      "source": [],
      "metadata": {
        "id": "VAWa8PndcF7s"
      }
    },
    {
      "cell_type": "markdown",
      "source": [
        "# **Practical Questions and Answers**"
      ],
      "metadata": {
        "id": "w2BCzSEMcuo5"
      }
    },
    {
      "cell_type": "markdown",
      "source": [
        "1.Write a Python program to print \"Hello, World!\""
      ],
      "metadata": {
        "id": "VU89x7aidHce"
      }
    },
    {
      "cell_type": "code",
      "execution_count": null,
      "metadata": {
        "id": "nu_GDq5u0_0Y",
        "colab": {
          "base_uri": "https://localhost:8080/"
        },
        "outputId": "492008d2-28e4-4f3c-90b9-bcd8de2e0d28"
      },
      "outputs": [
        {
          "output_type": "stream",
          "name": "stdout",
          "text": [
            "Hello, World!\n"
          ]
        }
      ],
      "source": [
        "print(\"Hello, World!\")"
      ]
    },
    {
      "cell_type": "markdown",
      "source": [
        "2.Write a Python program that displays your name and age."
      ],
      "metadata": {
        "id": "4b1Cok16dsbK"
      }
    },
    {
      "cell_type": "code",
      "source": [
        "my_name = \"Anand Raj\"\n",
        "my_age = 22\n",
        "print(\"My name is\", my_name, \"and I am\", my_age, \"years old.\")"
      ],
      "metadata": {
        "colab": {
          "base_uri": "https://localhost:8080/"
        },
        "id": "GcOZqbWrd5Gp",
        "outputId": "70c8b454-955a-4962-80d8-3a2f13fe221f"
      },
      "execution_count": null,
      "outputs": [
        {
          "output_type": "stream",
          "name": "stdout",
          "text": [
            "My name is Anand Raj and I am 22 years old.\n"
          ]
        }
      ]
    },
    {
      "cell_type": "markdown",
      "source": [
        "3.Write code to print all the pre-defined keywords in Python using the keyword library."
      ],
      "metadata": {
        "id": "ImguvJind52E"
      }
    },
    {
      "cell_type": "code",
      "source": [
        "import keyword\n",
        "print(\"Python keywords are:\")\n",
        "for kw in keyword.kwlist:\n",
        "    print(kw)"
      ],
      "metadata": {
        "colab": {
          "base_uri": "https://localhost:8080/"
        },
        "id": "s9FzhIxFeD_O",
        "outputId": "64027e25-be8b-4723-beff-992d1f42f991"
      },
      "execution_count": null,
      "outputs": [
        {
          "output_type": "stream",
          "name": "stdout",
          "text": [
            "Python keywords are:\n",
            "False\n",
            "None\n",
            "True\n",
            "and\n",
            "as\n",
            "assert\n",
            "async\n",
            "await\n",
            "break\n",
            "class\n",
            "continue\n",
            "def\n",
            "del\n",
            "elif\n",
            "else\n",
            "except\n",
            "finally\n",
            "for\n",
            "from\n",
            "global\n",
            "if\n",
            "import\n",
            "in\n",
            "is\n",
            "lambda\n",
            "nonlocal\n",
            "not\n",
            "or\n",
            "pass\n",
            "raise\n",
            "return\n",
            "try\n",
            "while\n",
            "with\n",
            "yield\n"
          ]
        }
      ]
    },
    {
      "cell_type": "markdown",
      "source": [
        "4.Write a program that checks if a given word is a Python keyword."
      ],
      "metadata": {
        "id": "mwspG0u2eFfT"
      }
    },
    {
      "cell_type": "code",
      "source": [
        "import keyword\n",
        "word_input = input(\"Enter a word: \")\n",
        "if keyword.iskeyword(word_input):\n",
        "    print(f\"'{word_input}' is a Python keyword.\")\n",
        "else:\n",
        "    print(f\"'{word_input}' is not a Python keyword.\")\n"
      ],
      "metadata": {
        "colab": {
          "base_uri": "https://localhost:8080/"
        },
        "id": "M98JUrcYeLHK",
        "outputId": "b953929d-8627-4059-b301-6164614254b2"
      },
      "execution_count": null,
      "outputs": [
        {
          "output_type": "stream",
          "name": "stdout",
          "text": [
            "Enter a word: try\n",
            "'try' is a Python keyword.\n"
          ]
        }
      ]
    },
    {
      "cell_type": "markdown",
      "source": [
        "5.Create a list and tuple in Python, and demonstrate how attempting to change an element works differently\n",
        "for each."
      ],
      "metadata": {
        "id": "OVkN2rzkeM9p"
      }
    },
    {
      "cell_type": "code",
      "source": [
        "def modify_values(num_val, list_val):\n",
        "    num_val += 5  # Immutable change\n",
        "    list_val.append(99)  # Mutable change\n",
        "    print(\"Inside function:\", num_val, list_val)\n",
        "\n",
        "number_x = 10\n",
        "list_x = [1, 2, 3]\n",
        "modify_values(number_x, list_x)\n",
        "print(\"Outside function:\", number_x, list_x)\n"
      ],
      "metadata": {
        "colab": {
          "base_uri": "https://localhost:8080/"
        },
        "id": "w3Zh2KCOeSxx",
        "outputId": "f0342cfd-66b1-4176-bdb1-2d78658d553d"
      },
      "execution_count": null,
      "outputs": [
        {
          "output_type": "stream",
          "name": "stdout",
          "text": [
            "Inside function: 15 [1, 2, 3, 99]\n",
            "Outside function: 10 [1, 2, 3, 99]\n"
          ]
        }
      ]
    },
    {
      "cell_type": "markdown",
      "source": [
        "6.Write a function to demonstrate the behavior of mutable and immutable arguments."
      ],
      "metadata": {
        "id": "ntvWgbHWd3gM"
      }
    },
    {
      "cell_type": "code",
      "source": [
        "a_num = float(input(\"Enter first number: \"))\n",
        "b_num = float(input(\"Enter second number: \"))\n",
        "\n",
        "print(\"Sum:\", a_num + b_num)\n",
        "print(\"Difference:\", a_num - b_num)\n",
        "print(\"Product:\", a_num * b_num)\n",
        "print(\"Quotient:\", a_num / b_num if b_num != 0 else \"Undefined (division by zero)\")\n"
      ],
      "metadata": {
        "colab": {
          "base_uri": "https://localhost:8080/"
        },
        "id": "ihBjEX_FebDg",
        "outputId": "4e505dec-a545-4ef8-c578-178872023343"
      },
      "execution_count": null,
      "outputs": [
        {
          "output_type": "stream",
          "name": "stdout",
          "text": [
            "Enter first number: 5\n",
            "Enter second number: 7\n",
            "Sum: 12.0\n",
            "Difference: -2.0\n",
            "Product: 35.0\n",
            "Quotient: 0.7142857142857143\n"
          ]
        }
      ]
    },
    {
      "cell_type": "markdown",
      "source": [
        "7.Write a program that performs basic arithmetic operations on two user-input numbers."
      ],
      "metadata": {
        "id": "rhsy4Lj_ecWV"
      }
    },
    {
      "cell_type": "code",
      "source": [
        "x_val = 8\n",
        "y_val = 3\n",
        "\n",
        "print(x_val > 5 and y_val < 5)\n",
        "print(x_val > 10 or y_val < 5)\n",
        "print(not(x_val == 8))\n"
      ],
      "metadata": {
        "colab": {
          "base_uri": "https://localhost:8080/"
        },
        "id": "J1M82UKleonc",
        "outputId": "e67781ba-bcfd-4c7c-f4e7-7b4ad0f7d8d0"
      },
      "execution_count": null,
      "outputs": [
        {
          "output_type": "stream",
          "name": "stdout",
          "text": [
            "True\n",
            "True\n",
            "False\n"
          ]
        }
      ]
    },
    {
      "cell_type": "markdown",
      "source": [
        "8.Write a program to demonstrate the use of logical operators."
      ],
      "metadata": {
        "id": "zflGsNv3er16"
      }
    },
    {
      "cell_type": "code",
      "source": [
        "sample_list = [10, 20, 30]\n",
        "sample_tuple = (10, 20, 30)\n",
        "\n",
        "# Changing list element\n",
        "sample_list[1] = 25\n",
        "print(\"Modified list:\", sample_list)\n",
        "\n",
        "# Trying to change tuple element (will cause error)\n",
        "try:\n",
        "    sample_tuple[1] = 25\n",
        "except TypeError:\n",
        "    print(\"Cannot modify tuple elements.\")\n"
      ],
      "metadata": {
        "colab": {
          "base_uri": "https://localhost:8080/"
        },
        "id": "wCPeQEFvgSGr",
        "outputId": "f0088686-f0b0-44fe-a4af-e29988cd51c8"
      },
      "execution_count": null,
      "outputs": [
        {
          "output_type": "stream",
          "name": "stdout",
          "text": [
            "Modified list: [10, 25, 30]\n",
            "Cannot modify tuple elements.\n"
          ]
        }
      ]
    },
    {
      "cell_type": "code",
      "source": [],
      "metadata": {
        "id": "OCMnNP7wetY2"
      },
      "execution_count": null,
      "outputs": []
    },
    {
      "cell_type": "markdown",
      "source": [
        "9.Write a Python program to convert user input from string to integer, float, and boolean types."
      ],
      "metadata": {
        "id": "FNAFLBDJet3a"
      }
    },
    {
      "cell_type": "code",
      "source": [
        "data_str = input(\"Enter a value: \")\n",
        "print(\"As integer:\", int(data_str))\n",
        "print(\"As float:\", float(data_str))\n",
        "print(\"As boolean:\", bool(data_str))\n"
      ],
      "metadata": {
        "colab": {
          "base_uri": "https://localhost:8080/"
        },
        "id": "0mqgucY1eyv6",
        "outputId": "f4934cec-7865-48d1-d494-d435827fa237"
      },
      "execution_count": null,
      "outputs": [
        {
          "output_type": "stream",
          "name": "stdout",
          "text": [
            "Enter a value: 5\n",
            "As integer: 5\n",
            "As float: 5.0\n",
            "As boolean: True\n"
          ]
        }
      ]
    },
    {
      "cell_type": "markdown",
      "source": [
        "10.Write code to demonstrate type casting with list elements."
      ],
      "metadata": {
        "id": "i8oke5j5ez5o"
      }
    },
    {
      "cell_type": "code",
      "source": [
        "num_list = [\"1\", \"2\", \"3\"]\n",
        "num_list = [int(item) for item in num_list]\n",
        "print(\"After casting to integers:\", num_list)\n"
      ],
      "metadata": {
        "colab": {
          "base_uri": "https://localhost:8080/"
        },
        "id": "G0JvmN2Ge4Do",
        "outputId": "8eee312a-ee65-4e13-dcce-aad8635be635"
      },
      "execution_count": null,
      "outputs": [
        {
          "output_type": "stream",
          "name": "stdout",
          "text": [
            "After casting to integers: [1, 2, 3]\n"
          ]
        }
      ]
    },
    {
      "cell_type": "markdown",
      "source": [
        "11.Write a program that checks if a number is positive, negative, or zero."
      ],
      "metadata": {
        "id": "07muYpBze4is"
      }
    },
    {
      "cell_type": "code",
      "source": [
        "num_check = float(input(\"Enter a number: \"))\n",
        "if num_check > 0:\n",
        "    print(\"Positive number\")\n",
        "elif num_check < 0:\n",
        "    print(\"Negative number\")\n",
        "else:\n",
        "    print(\"Zero\")\n"
      ],
      "metadata": {
        "colab": {
          "base_uri": "https://localhost:8080/"
        },
        "id": "u0e9agzehH2V",
        "outputId": "28ce4eb5-7d23-45d3-9e59-67661bc1dd43"
      },
      "execution_count": null,
      "outputs": [
        {
          "output_type": "stream",
          "name": "stdout",
          "text": [
            "Enter a number: 7\n",
            "Positive number\n"
          ]
        }
      ]
    },
    {
      "cell_type": "markdown",
      "source": [
        "12.Write a for loop to print numbers from 1 to 10."
      ],
      "metadata": {
        "id": "50op7k8_e-Fa"
      }
    },
    {
      "cell_type": "code",
      "source": [
        "for counter in range(1, 11):\n",
        "    print(counter)\n"
      ],
      "metadata": {
        "colab": {
          "base_uri": "https://localhost:8080/"
        },
        "id": "3TZLaQNEfB9k",
        "outputId": "7f017a0b-0bc6-4fe7-84c0-541a8d53e529"
      },
      "execution_count": null,
      "outputs": [
        {
          "output_type": "stream",
          "name": "stdout",
          "text": [
            "1\n",
            "2\n",
            "3\n",
            "4\n",
            "5\n",
            "6\n",
            "7\n",
            "8\n",
            "9\n",
            "10\n"
          ]
        }
      ]
    },
    {
      "cell_type": "markdown",
      "source": [
        "13.Write a Python program to find the sum of all even numbers between 1 and 50."
      ],
      "metadata": {
        "id": "R3MqBmrGfC_8"
      }
    },
    {
      "cell_type": "code",
      "source": [
        "sum_even = 0\n",
        "for val in range(2, 51, 2):\n",
        "    sum_even += val\n",
        "print(\"Sum of even numbers between 1 and 50:\", sum_even)\n"
      ],
      "metadata": {
        "colab": {
          "base_uri": "https://localhost:8080/"
        },
        "id": "vzmjWrTCfIvo",
        "outputId": "4de1745a-ab7f-4db4-a959-2c4ffbc51377"
      },
      "execution_count": null,
      "outputs": [
        {
          "output_type": "stream",
          "name": "stdout",
          "text": [
            "Sum of even numbers between 1 and 50: 650\n"
          ]
        }
      ]
    },
    {
      "cell_type": "markdown",
      "source": [
        "14.Write a program to reverse a string using a while loop."
      ],
      "metadata": {
        "id": "5WqJUnVufJWr"
      }
    },
    {
      "cell_type": "code",
      "source": [
        "input_str = input(\"Enter a string: \")\n",
        "rev_str = \"\"\n",
        "idx = len(input_str) - 1\n",
        "\n",
        "while idx >= 0:\n",
        "    rev_str += input_str[idx]\n",
        "    idx -= 1\n",
        "\n",
        "print(\"Reversed string:\", rev_str)\n"
      ],
      "metadata": {
        "colab": {
          "base_uri": "https://localhost:8080/"
        },
        "id": "S7Ud4cH3fNxv",
        "outputId": "14203b27-91a4-4b28-c0dd-d91742d06a31"
      },
      "execution_count": null,
      "outputs": [
        {
          "output_type": "stream",
          "name": "stdout",
          "text": [
            "Enter a string: anand\n",
            "Reversed string: dnana\n"
          ]
        }
      ]
    },
    {
      "cell_type": "markdown",
      "source": [
        "15.Write a Python program to calculate the factorial of a number provided by the user using a while loop."
      ],
      "metadata": {
        "id": "KB6aQrCFfSb6"
      }
    },
    {
      "cell_type": "code",
      "source": [
        "num_fact = int(input(\"Enter a number: \"))\n",
        "fact_result = 1\n",
        "counter = 1\n",
        "\n",
        "while counter <= num_fact:\n",
        "    fact_result *= counter\n",
        "    counter += 1\n",
        "\n",
        "print(f\"Factorial of {num_fact} is {fact_result}\")\n"
      ],
      "metadata": {
        "colab": {
          "base_uri": "https://localhost:8080/"
        },
        "id": "NUGuu7ACfRNj",
        "outputId": "5a6182d5-984c-4cf4-8174-5e68441445a8"
      },
      "execution_count": null,
      "outputs": [
        {
          "output_type": "stream",
          "name": "stdout",
          "text": [
            "Enter a number: 9\n",
            "Factorial of 9 is 362880\n"
          ]
        }
      ]
    }
  ]
}